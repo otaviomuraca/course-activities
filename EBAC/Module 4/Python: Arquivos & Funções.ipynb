{
  "nbformat": 4,
  "nbformat_minor": 0,
  "metadata": {
    "colab": {
      "name": "modulo_4_exercicios_RESPOSTA_OTAVIOMURACA - REVER.ipynb",
      "provenance": [],
      "collapsed_sections": []
    },
    "kernelspec": {
      "name": "python3",
      "display_name": "Python 3"
    }
  },
  "cells": [
    {
      "cell_type": "markdown",
      "metadata": {
        "id": "KJqp9AANOCtf"
      },
      "source": [
        "<img src=\"https://raw.githubusercontent.com/andre-marcos-perez/ebac-course-utils/main/media/logo/newebac_logo_black_half.png\" alt=\"ebac-logo\">\n",
        "\n",
        "---\n",
        "\n",
        "# **Módulo** | Python: Arquivos & Funções\n",
        "Caderno de **Exercícios**<br> \n",
        "Professor [André Perez](https://www.linkedin.com/in/andremarcosperez/)\n",
        "\n",
        "---"
      ]
    },
    {
      "cell_type": "markdown",
      "metadata": {
        "id": "d9jDtUbDOE1-"
      },
      "source": [
        "# **Tópicos**\n",
        "\n",
        "<ol type=\"1\">\n",
        "  <li>Leitura;</li>\n",
        "  <li>Escrita;</li>\n",
        "  <li>Funções;</li>\n",
        "  <li>Escopo.</li>\n",
        "</ol>"
      ]
    },
    {
      "cell_type": "markdown",
      "metadata": {
        "id": "SmoHgt-lwkpD"
      },
      "source": [
        "---"
      ]
    },
    {
      "cell_type": "markdown",
      "metadata": {
        "id": "GABI6OW8OfQ2"
      },
      "source": [
        "# **Exercícios**"
      ]
    },
    {
      "cell_type": "markdown",
      "metadata": {
        "id": "muD1vxozykSC"
      },
      "source": [
        "## 0\\. Preparação do ambiente"
      ]
    },
    {
      "cell_type": "markdown",
      "metadata": {
        "id": "ahrFfCuBxJKs"
      },
      "source": [
        "Neste exercício vamos trabalhar com os arquivos de csv e texto definidos abaixo. Execute cada uma das células de código para escrever os arquivos na sua máquina virtual."
      ]
    },
    {
      "cell_type": "markdown",
      "metadata": {
        "id": "u0uFuhRSq_hQ"
      },
      "source": [
        "* **carros.csv**: arquivo csv com informações sobre carros (venda, manutenção, portas, etc.)."
      ]
    },
    {
      "cell_type": "code",
      "metadata": {
        "id": "daMf-xaXqKs2",
        "colab": {
          "base_uri": "https://localhost:8080/"
        },
        "outputId": "2908a2c4-3123-4431-d3f6-584b56c057e0"
      },
      "source": [
        "%%writefile carros.csv\n",
        "id,valor_venda,valor_manutencao,portas,pessoas,porta_malas\n",
        "1,vhigh,med,2,2,small\n",
        "2,med,vhigh,2,2,small\n",
        "3,low,vhigh,2,2,small\n",
        "4,low,high,2,2,small\n",
        "5,low,high,2,2,small\n",
        "6,low,high,4,4,big\n",
        "7,low,high,4,4,big\n",
        "8,low,med,2,2,small\n",
        "9,low,med,2,2,small\n",
        "10,low,med,2,2,small\n",
        "11,low,med,4,4,big\n",
        "12,low,low,2,2,small\n",
        "13,low,low,4,4,small\n"
      ],
      "execution_count": 1,
      "outputs": [
        {
          "output_type": "stream",
          "name": "stdout",
          "text": [
            "Writing carros.csv\n"
          ]
        }
      ]
    },
    {
      "cell_type": "markdown",
      "metadata": {
        "id": "X0Z2PhbCrTz1"
      },
      "source": [
        "* **musica.txt**: arquivo texto com a letra da música Roda Viva do Chico Buarque."
      ]
    },
    {
      "cell_type": "code",
      "metadata": {
        "id": "m7Ge2rggrU73",
        "colab": {
          "base_uri": "https://localhost:8080/"
        },
        "outputId": "d780f9c5-8a66-4cae-edd8-013eb434d7df"
      },
      "source": [
        "%%writefile musica.txt\n",
        "Roda Viva\n",
        "Chico Buarque\n",
        "\n",
        "Tem dias que a gente se sente\n",
        "Como quem partiu ou morreu\n",
        "A gente estancou de repente\n",
        "Ou foi o mundo então que cresceu\n",
        "A gente quer ter voz ativa\n",
        "No nosso destino mandar\n",
        "Mas eis que chega a roda viva\n",
        "E carrega o destino pra lá\n",
        "\n",
        "Roda mundo, roda-gigante\n",
        "Roda moinho, roda pião\n",
        "\n",
        "O tempo rodou num instante\n",
        "Nas voltas do meu coração\n",
        "A gente vai contra a corrente\n",
        "Até não poder resistir\n",
        "Na volta do barco é que sente\n",
        "O quanto deixou de cumprir\n",
        "Faz tempo que a gente cultiva\n",
        "A mais linda roseira que há\n",
        "Mas eis que chega a roda viva\n",
        "E carrega a roseira pra lá\n",
        "\n",
        "Roda mundo, roda-gigante\n",
        "Roda moinho, roda pião"
      ],
      "execution_count": 2,
      "outputs": [
        {
          "output_type": "stream",
          "name": "stdout",
          "text": [
            "Writing musica.txt\n"
          ]
        }
      ]
    },
    {
      "cell_type": "markdown",
      "metadata": {
        "id": "zMN1Q3jdwoJm"
      },
      "source": [
        "---"
      ]
    },
    {
      "cell_type": "markdown",
      "metadata": {
        "id": "U4S19ZvHsPcE"
      },
      "source": [
        "## 1\\. Funções para arquivo csv"
      ]
    },
    {
      "cell_type": "markdown",
      "metadata": {
        "id": "Mcf3mkOrtHzK"
      },
      "source": [
        "Complete a função abaixo para extrair uma coluna do arquivo csv em uma lista. Os elementos devem ter o tipo de dado correto."
      ]
    },
    {
      "cell_type": "code",
      "metadata": {
        "id": "W-1PAg7Ctt7i"
      },
      "source": [
        "def extrai_coluna_csv(nome_arquivo: str, indice_coluna: int, tipo_dado: str):\n",
        "\n",
        "  coluna = []\n",
        "\n",
        "  try:\n",
        "    with open(nome_arquivo, 'r') as txt:\n",
        "      conteudo = txt.readline()\n",
        "      conteudo = txt.readline()\n",
        "      while conteudo:\n",
        "        quebra = conteudo.split(\",\")\n",
        "        id = quebra[indice_coluna]\n",
        "        \n",
        "        if tipo_dado == 'str':\n",
        "          id = str(id)\n",
        "        elif tipo_dado == 'int':\n",
        "          id = int(id)\n",
        "        elif tipo_dado == 'float':\n",
        "          id = float(id)\n",
        "        elif tipo_dado == 'bool':\n",
        "          id = bool(id)\n",
        "        else: pass\n",
        "\n",
        "        coluna.append(id)\n",
        "        conteudo = txt.readline()\n",
        "\n",
        "  except: \n",
        "    print(\"Possivel erro\")\n",
        "\n",
        "  # leia o arquivo com o comando 'with' utilizando o parametro 'nome_arquivo'\n",
        "  # extraia a coluna do arquivo utilizando o parametro 'indice_coluna'\n",
        "  # use a estrutura de decisão if/elif/else para fazer a conversão do tipo de dados utilizando o parametro 'tipo_dado'\n",
        "\n",
        "  return coluna"
      ],
      "execution_count": 3,
      "outputs": []
    },
    {
      "cell_type": "markdown",
      "metadata": {
        "id": "qCbQF6jru_01"
      },
      "source": [
        "Você pode testar a função com os códigos abaixo."
      ]
    },
    {
      "cell_type": "code",
      "metadata": {
        "id": "Rl-EYdySu90s",
        "colab": {
          "base_uri": "https://localhost:8080/"
        },
        "outputId": "6526b377-07ba-48b8-ca34-b3cd0e6f78c7"
      },
      "source": [
        "# extrair a coluna valor_venda\n",
        "valor_venda = extrai_coluna_csv(nome_arquivo='./carros.csv', indice_coluna=1, tipo_dado='str')\n",
        "print(valor_venda) # deve retornar ['vhigh', 'med', 'low', ...]"
      ],
      "execution_count": 4,
      "outputs": [
        {
          "output_type": "stream",
          "name": "stdout",
          "text": [
            "['vhigh', 'med', 'low', 'low', 'low', 'low', 'low', 'low', 'low', 'low', 'low', 'low', 'low']\n"
          ]
        }
      ]
    },
    {
      "cell_type": "code",
      "metadata": {
        "id": "hvD-zzwDwboD",
        "colab": {
          "base_uri": "https://localhost:8080/"
        },
        "outputId": "b14c2c70-0a5c-43e9-fdf0-a07698fe8e2b"
      },
      "source": [
        "# extrair a coluna pessoas\n",
        "pessoas = extrai_coluna_csv(nome_arquivo='./carros.csv', indice_coluna=4, tipo_dado='int')\n",
        "print(pessoas) # deve retornar [2, 2, 2, ...]"
      ],
      "execution_count": 5,
      "outputs": [
        {
          "output_type": "stream",
          "name": "stdout",
          "text": [
            "[2, 2, 2, 2, 2, 4, 4, 2, 2, 2, 4, 2, 4]\n"
          ]
        }
      ]
    },
    {
      "cell_type": "markdown",
      "metadata": {
        "id": "QTS5-sSbs4ie"
      },
      "source": [
        "---"
      ]
    },
    {
      "cell_type": "markdown",
      "metadata": {
        "id": "sebqs6uztCH4"
      },
      "source": [
        "## 2\\. Funções para arquivo txt"
      ]
    },
    {
      "cell_type": "markdown",
      "metadata": {
        "id": "IFVBGkNhzB3P"
      },
      "source": [
        "Complete a função abaixo para extrair uma as palavras de uma linha do arquivo txt em uma lista."
      ]
    },
    {
      "cell_type": "code",
      "metadata": {
        "id": "ewrNqMtczWZJ"
      },
      "source": [
        "def extrai_linha_txt(nome_arquivo: str, numero_linha: int):\n",
        "\n",
        "  palavras_linha = []\n",
        "\n",
        "  try:\n",
        "    with open(nome_arquivo, \"r\") as arquivo: \n",
        "        texto = arquivo.readlines()\n",
        "         \n",
        "        if numero_linha > 0: \n",
        "            numero_linha -= 1 # Chama a linha desejada -1(por causa do indice ZERO)\n",
        "\n",
        "        linha = texto[numero_linha] \n",
        "        linha = linha.strip('\\n')\n",
        "        linha = linha.split(\" \")\n",
        "\n",
        "        for i in linha: \n",
        "          palavras_linha.append(i)\n",
        "  \n",
        "      \n",
        "  except:\n",
        "    print(\"erro\")\n",
        "\n",
        "  # leia o arquivo com o comando 'with' utilizando o parametro 'nome_arquivo'\n",
        "  # extraia a linha do arquivo utilizando o parametro 'numero_linha'\n",
        "  # quebre a linha em palavras com o comando split, note que o separador é um espaço ' '\n",
        "\n",
        "  return  palavras_linha"
      ],
      "execution_count": 57,
      "outputs": []
    },
    {
      "cell_type": "markdown",
      "metadata": {
        "id": "Qz2UwipIz0t2"
      },
      "source": [
        "Você pode testar a função com os códigos abaixo."
      ]
    },
    {
      "cell_type": "code",
      "metadata": {
        "id": "_Wxp43qqz1V2",
        "colab": {
          "base_uri": "https://localhost:8080/"
        },
        "outputId": "65e55955-f3df-4d6a-f059-f4e1da257d81"
      },
      "source": [
        "linha10 = extrai_linha_txt(nome_arquivo='./musica.txt', numero_linha=10)\n",
        "print(linha10) # deve retornar ['Mas', 'eis', 'que', 'chega', 'a', 'roda', 'viva']"
      ],
      "execution_count": 62,
      "outputs": [
        {
          "output_type": "stream",
          "name": "stdout",
          "text": [
            "['Mas', 'eis', 'que', 'chega', 'a', 'roda', 'viva']\n"
          ]
        }
      ]
    },
    {
      "cell_type": "markdown",
      "metadata": {
        "id": "Fo9qTjietCH6"
      },
      "source": [
        "---"
      ]
    },
    {
      "cell_type": "code",
      "source": [
        ""
      ],
      "metadata": {
        "id": "lmt-x3S3QIZe"
      },
      "execution_count": null,
      "outputs": []
    }
  ]
}
 
