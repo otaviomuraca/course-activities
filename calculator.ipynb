import pandas as pd
import math

print("--------CALCULADORA--------")
print("\n===========================")

#INSIRA O PRIMEIRO NUMERO
print('NUMERO A:')
num1 = int(input())

#SALVA O NUMERO NA MEMORIA
memoria = int(num1)

#OPERACAO A SER UTILIZADA
print('\nQUAL OPERAÇÃO VOCÊ DESEJA REALIZAR:')
print('\n1. +')
print('\n2. -')
print('\n3. /')
print('\n4. *')
print('\n5. %')

operacao = int(input())


##SEGUNDO NUMERO
print('\nNUMERO B:')
num2 = int(input())

if operacao == 1:
  memoria = (num1 + num2)
  print("\n===========================")
  print('Seu resultado é %s.' % memoria)
  print("\n===========================")

elif operacao == 2:
  memoria = (num1 - num2)
  print("\n===========================")
  print('Seu resultado é %s.' % memoria)
  print("\n===========================")

elif operacao == 3:
  memoria = (num1 / num2)
  print("\n===========================")
  print('Seu resultado é %s.' % memoria)
  print("\n===========================")

elif operacao == 4:
  memoria = (num1 * num2)
  print("\n===========================")
  print('Seu resultado é %s.' % memoria)
  print("\n===========================")

elif operacao == 5:
  memoria = (num1/100)*num2
  print("\n===========================")
  print('Seu resultado é %s.' % memoria)
  print("\n===========================")
    
else:
  print('Operação Invalida!')
  print('\n escolha uma operação da lista!')
  print("\n===========================")


